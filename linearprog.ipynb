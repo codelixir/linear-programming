{
 "cells": [
  {
   "cell_type": "code",
   "execution_count": 1,
   "metadata": {},
   "outputs": [],
   "source": [
    "import numpy as np\n",
    "import cvxpy as cp\n",
    "import json"
   ]
  },
  {
   "cell_type": "code",
   "execution_count": 2,
   "metadata": {},
   "outputs": [],
   "source": [
    "# PARAMETERS\n",
    "STEPCOST = -5\n",
    "PENALTY = -40"
   ]
  },
  {
   "cell_type": "code",
   "execution_count": 3,
   "metadata": {},
   "outputs": [],
   "source": [
    "all_actions = ['UP', 'LEFT', 'DOWN', 'RIGHT', 'STAY', 'SHOOT', 'HIT', 'CRAFT', 'GATHER', 'NONE']\n",
    "mm_state = ['D', 'R']"
   ]
  },
  {
   "cell_type": "code",
   "execution_count": 4,
   "metadata": {},
   "outputs": [],
   "source": [
    "def change_tuple(state, **kwargs):\n",
    "    p, m, a, s, h = state\n",
    "    p = kwargs.get('pos', p)\n",
    "    m = kwargs.get('mat', m)\n",
    "    a = kwargs.get('arrow', a)\n",
    "    s = kwargs.get('mm', s)\n",
    "    h = kwargs.get('health', h)\n",
    "    return (p, m, a, s, h)"
   ]
  },
  {
   "cell_type": "code",
   "execution_count": 5,
   "metadata": {},
   "outputs": [],
   "source": [
    "class Position:\n",
    "    \n",
    "    def __init__(self, name, acts, prob1, prob2, prob3=0):\n",
    "        self.name = name\n",
    "        self.move_prob = prob1 # up, down, left, right, stay\n",
    "        self.spec_prob = prob2 # hit, craft, gather\n",
    "        self.shoot_prob = prob3 # shoot\n",
    "        self.actions = list(np.array(all_actions)[acts])\n",
    "        \n",
    "    def up(self):\n",
    "        i = positions.index(self)\n",
    "        return positions[i+1]\n",
    "    \n",
    "    def down(self):\n",
    "        i = positions.index(self)\n",
    "        return positions[i-1]\n",
    "    \n",
    "    def right(self):\n",
    "        i = positions.index(self)\n",
    "        return positions[i+2]\n",
    "    \n",
    "    def left(self):\n",
    "        i = positions.index(self)\n",
    "        return positions[i-2]\n",
    "    \n",
    "    def default(self):\n",
    "        return positions[-1]\n",
    "    \n",
    "    def move(self, action=''):\n",
    "        if action in ['NONE', 'STAY']:\n",
    "            return self\n",
    "        func = {'UP': self.up, 'DOWN': self.down, 'RIGHT': self.right, 'LEFT': self.left}\n",
    "        act = func.get(action, self.default)\n",
    "        return act()"
   ]
  },
  {
   "cell_type": "code",
   "execution_count": 6,
   "metadata": {},
   "outputs": [],
   "source": [
    "class State:\n",
    "    \n",
    "    def __init__(self, pos, mat, arrow, mm, health):\n",
    "        self.tuple = (pos, mat, arrow, mm, health)\n",
    "        self.pos = pos\n",
    "        self.mat = mat\n",
    "        self.arrow = arrow\n",
    "        self.mm = mm\n",
    "        self.health = health\n",
    "        self.name = '({},{},{},{},{})'.format(pos.name, mat, arrow, mm_state[mm], health)\n",
    "        \n",
    "    def set_index(self, idx):\n",
    "        if idx >= 0 and idx < 600:\n",
    "            self._index = idx\n",
    "            return idx\n",
    "        return -1\n",
    "        \n",
    "    def get_index(self):\n",
    "        try:\n",
    "            return self._index\n",
    "        except:\n",
    "            return 600\n",
    "        \n",
    "    def get_actions(self):\n",
    "        if self.health == 0:\n",
    "            return ['NONE']\n",
    "        actions = [a for a in self.pos.actions]\n",
    "        if 'SHOOT' in actions and self.arrow == 0:\n",
    "            actions.remove('SHOOT')\n",
    "        if 'CRAFT' in actions and self.mat == 0:\n",
    "            actions.remove('CRAFT')\n",
    "        return actions\n",
    "    \n",
    "    def get_tuple(self, **kwargs):\n",
    "        pos = kwargs.get('pos', self.pos)\n",
    "        mat = kwargs.get('mat', self.mat)\n",
    "        arrow = kwargs.get('arrow', self.arrow)\n",
    "        mm = kwargs.get('mm', self.mm)\n",
    "        health = kwargs.get('health', self.health)\n",
    "        return (pos, mat, arrow, mm, health)\n",
    "    \n",
    "    def next_states(self, action):\n",
    "        tuples = []\n",
    "        probs = []\n",
    "        \n",
    "        if action in ['UP', 'LEFT', 'DOWN', 'RIGHT', 'STAY']:\n",
    "            p1 = self.pos.move_prob\n",
    "            tuples = [self.get_tuple(pos=self.pos.move(action)), self.get_tuple(pos=self.pos.move('DEFAULT'))]\n",
    "            probs = [p1, 1-p1]\n",
    "        elif action == 'SHOOT':\n",
    "            p3 = self.pos.shoot_prob\n",
    "            tuples = [self.get_tuple(arrow=self.arrow - 1, health=self.health-25), self.get_tuple(arrow=self.arrow - 1)]\n",
    "            probs = [p3, 1-p3]\n",
    "        elif action == 'CRAFT':\n",
    "            a2 = min(3, self.arrow + 2)\n",
    "            a1 = min(3, self.arrow + 1)\n",
    "            tuples = [self.get_tuple(mat=self.mat-1, arrow=a1), self.get_tuple(mat=self.mat-1, arrow=a2), self.get_tuple(mat=self.mat-1, arrow=3)]\n",
    "            probs = self.pos.spec_prob\n",
    "        elif action == 'HIT':\n",
    "            p2 = self.pos.spec_prob\n",
    "            fh = max(0, self.health-50)\n",
    "            tuples = [self.get_tuple(health=fh), self.tuple]\n",
    "            probs = [p2, 1-p2]\n",
    "        elif action == 'GATHER':\n",
    "            p2 = self.pos.spec_prob\n",
    "            fm = min(2, self.mat + 1)\n",
    "            tuples = [self.get_tuple(mat = fm), self.tuple]\n",
    "            probs = [p2, 1-p2]\n",
    "        else: # 'NONE'\n",
    "            return [], []\n",
    "        \n",
    "        if self.mm: # ready\n",
    "            if self.pos in [center, east]:\n",
    "                attack = self.get_tuple(mm=0, arrow=0)\n",
    "                newprobs = [0.5*p for p in probs] + [0.5]\n",
    "                newtuples = [s for s in tuples] + [attack]\n",
    "            else:\n",
    "                attack = [change_tuple(s, mm=0) for s in tuples]\n",
    "                newprobs = [0.5*p for p in probs] + [0.5*p for p in probs]\n",
    "                newtuples = [s for s in tuples] + attack\n",
    "        else: # dormant\n",
    "            newprobs = [0.8*p for p in probs] + [0.2*p for p in probs]\n",
    "            newtuples = tuples + [change_tuple(s, mm=1) for s in tuples]\n",
    "            \n",
    "        newstates = [get_stateobj(s) for s in newtuples]\n",
    "        newprobs = [round(p, 4) for p in newprobs]\n",
    "        return newstates, newprobs\n",
    "    \n",
    "    def reward(self, finalState):\n",
    "        if self.mm == 1 and finalState.mm == 0:\n",
    "            if self.pos in [center, east]:\n",
    "                return STEPCOST + PENALTY\n",
    "        return STEPCOST"
   ]
  },
  {
   "cell_type": "code",
   "execution_count": 7,
   "metadata": {},
   "outputs": [],
   "source": [
    "center = Position('C', [0, 1, 2, 3, 4, 5, 6], 0.85, 0.1, 0.5)\n",
    "north = Position('N', [2, 4, 7], 0.85, [0.5, 0.35, 0.15])\n",
    "south = Position('S', [0, 4, 8], 0.85, 0.75)\n",
    "east = Position('E', [1, 4, 5, 6], 1, 0.2, 0.9)\n",
    "west = Position('W', [3, 4, 5], 1, 0, 0.25)\n",
    "\n",
    "positions = [west, south, center, north, east]"
   ]
  },
  {
   "cell_type": "code",
   "execution_count": 8,
   "metadata": {},
   "outputs": [],
   "source": [
    "def initialise_states():\n",
    "    states = []\n",
    "    i = 0\n",
    "    \n",
    "    for pos in positions:\n",
    "        for mat in range(0,3):\n",
    "            for arrow in range(0, 4):\n",
    "                for mm in range(0, 2):\n",
    "                    for health in range(0, 5):\n",
    "                        newstate = State(pos, mat, arrow, mm, health*25)\n",
    "                        states.append(newstate)\n",
    "                        newstate.set_index(i)\n",
    "                        i += 1\n",
    "                        \n",
    "    return states"
   ]
  },
  {
   "cell_type": "code",
   "execution_count": 9,
   "metadata": {},
   "outputs": [],
   "source": [
    "def get_stateobj(stuple):\n",
    "    global states\n",
    "    for s in states:\n",
    "        if s.tuple == stuple:\n",
    "            return s"
   ]
  },
  {
   "cell_type": "code",
   "execution_count": 10,
   "metadata": {},
   "outputs": [],
   "source": [
    "def state_index(stuple):\n",
    "    s = get_stateobj(stuple)\n",
    "    return s.get_index()"
   ]
  },
  {
   "cell_type": "code",
   "execution_count": 11,
   "metadata": {},
   "outputs": [],
   "source": [
    "def initialise_pairs():\n",
    "    global states\n",
    "    pairs = []\n",
    "    for state in states:\n",
    "        actions = state.get_actions()\n",
    "        for act in actions:\n",
    "            pairs.append([state, act])\n",
    "    return pairs"
   ]
  },
  {
   "cell_type": "code",
   "execution_count": 12,
   "metadata": {},
   "outputs": [],
   "source": [
    "def pair_index(state, action='ANY'):\n",
    "    for i, c in enumerate(stateaction):\n",
    "        if c[0] == state:\n",
    "            if action=='ANY':\n",
    "                return i\n",
    "            if c[1] == action:\n",
    "                return i"
   ]
  },
  {
   "cell_type": "code",
   "execution_count": 13,
   "metadata": {},
   "outputs": [],
   "source": [
    "def get_alpha(startState = None):\n",
    "    if startState:\n",
    "        alpha = [0.]*600\n",
    "        start = state_index(startState)\n",
    "        alpha[start] = 1.\n",
    "    else:\n",
    "        alpha = [1/600]*600\n",
    "    return np.reshape(alpha, (600, 1))"
   ]
  },
  {
   "cell_type": "code",
   "execution_count": 14,
   "metadata": {},
   "outputs": [],
   "source": [
    "def get_Amatrix(arr, pairs):\n",
    "    \n",
    "    a = np.zeros((len(arr), len(pairs)))\n",
    "    \n",
    "    for i, pair in enumerate(pairs):\n",
    "        startState, action = pair\n",
    "        newStates, probs = startState.next_states(action)\n",
    "        x = startState.get_index()\n",
    "        \n",
    "        for j, state in enumerate(newStates):\n",
    "            y = state.get_index()\n",
    "            a[x][i] += probs[j]\n",
    "            a[y][i] -= probs[j]\n",
    "            \n",
    "        if not newStates:\n",
    "            a[x][i] = 1\n",
    "            \n",
    "    return a"
   ]
  },
  {
   "cell_type": "code",
   "execution_count": 15,
   "metadata": {},
   "outputs": [],
   "source": [
    "def get_Rmatrix(pairs):\n",
    "    \n",
    "    r = np.zeros(len(pairs))\n",
    "    \n",
    "    for i, pair in enumerate(pairs):\n",
    "        startState, action = pair\n",
    "        newStates, probs = startState.next_states(action)\n",
    "        expected_reward = 0\n",
    "        for j, state in enumerate(newStates):\n",
    "            expected_reward += probs[j]*startState.reward(state)\n",
    "        r[i] = round(expected_reward, 6)\n",
    "        \n",
    "    return r"
   ]
  },
  {
   "cell_type": "code",
   "execution_count": 16,
   "metadata": {},
   "outputs": [],
   "source": [
    "def get_policy(arr, pairs, X):\n",
    "    policy = []\n",
    "    for state in arr:\n",
    "        i = pair_index(state)\n",
    "        n = len(state.get_actions())\n",
    "        sl = X.value[i:i+n].tolist()\n",
    "        u_max = np.max(sl)\n",
    "        idx = i + sl.index(u_max)\n",
    "        action = pairs[idx][1]\n",
    "        policy.append([state.name, action])\n",
    "    return policy"
   ]
  },
  {
   "cell_type": "code",
   "execution_count": 17,
   "metadata": {},
   "outputs": [],
   "source": [
    "## MAIN\n",
    "\n",
    "states = initialise_states() # State(object)\n",
    "stateaction = initialise_pairs() # [State(object), string]\n",
    "n = len(stateaction)\n",
    "\n",
    "alpha = get_alpha()\n",
    "A = get_Amatrix(states, stateaction)\n",
    "R = get_Rmatrix(stateaction)\n",
    "x = cp.Variable(shape=(n, 1), name=\"x\")"
   ]
  },
  {
   "cell_type": "code",
   "execution_count": 18,
   "metadata": {},
   "outputs": [],
   "source": [
    "constraints = [cp.matmul(A, x) == alpha, x >= 0]\n",
    "objective = cp.Maximize(cp.matmul(R, x))\n",
    "problem = cp.Problem(objective, constraints)"
   ]
  },
  {
   "cell_type": "code",
   "execution_count": 19,
   "metadata": {},
   "outputs": [],
   "source": [
    "solution = problem.solve()"
   ]
  },
  {
   "cell_type": "code",
   "execution_count": 20,
   "metadata": {
    "scrolled": true
   },
   "outputs": [
    {
     "data": {
      "text/plain": [
       "-68.89586006051073"
      ]
     },
     "execution_count": 20,
     "metadata": {},
     "output_type": "execute_result"
    }
   ],
   "source": [
    "solution"
   ]
  },
  {
   "cell_type": "code",
   "execution_count": 21,
   "metadata": {},
   "outputs": [],
   "source": [
    "policy = get_policy(states, stateaction, x)"
   ]
  },
  {
   "cell_type": "code",
   "execution_count": 22,
   "metadata": {},
   "outputs": [],
   "source": [
    "X_list = [list(x) for x in x.value]"
   ]
  },
  {
   "cell_type": "code",
   "execution_count": 23,
   "metadata": {},
   "outputs": [],
   "source": [
    "A_list = [list(a) for a in A]"
   ]
  },
  {
   "cell_type": "code",
   "execution_count": 24,
   "metadata": {},
   "outputs": [],
   "source": [
    "final_dict = {\"a\": A_list, \"r\": R.tolist(), \"alpha\": alpha.tolist(), \"x\": X_list, \"policy\": policy, \"objective\": solution}"
   ]
  },
  {
   "cell_type": "code",
   "execution_count": null,
   "metadata": {},
   "outputs": [],
   "source": []
  },
  {
   "cell_type": "code",
   "execution_count": 25,
   "metadata": {},
   "outputs": [],
   "source": [
    "with open('test.json', 'w') as fd:\n",
    "    json.dump(final_dict, fd)"
   ]
  },
  {
   "cell_type": "code",
   "execution_count": null,
   "metadata": {},
   "outputs": [],
   "source": []
  },
  {
   "cell_type": "code",
   "execution_count": 32,
   "metadata": {},
   "outputs": [
    {
     "data": {
      "text/plain": [
       "'(C,2,0,D,100)'"
      ]
     },
     "execution_count": 32,
     "metadata": {},
     "output_type": "execute_result"
    }
   ],
   "source": [
    "states[324].name"
   ]
  },
  {
   "cell_type": "code",
   "execution_count": 35,
   "metadata": {},
   "outputs": [
    {
     "data": {
      "text/plain": [
       "324"
      ]
     },
     "execution_count": 35,
     "metadata": {},
     "output_type": "execute_result"
    }
   ],
   "source": [
    "get_stateobj((center, 2, 0, 0, 100)).get_index()"
   ]
  },
  {
   "cell_type": "code",
   "execution_count": null,
   "metadata": {},
   "outputs": [],
   "source": []
  }
 ],
 "metadata": {
  "kernelspec": {
   "display_name": "myenv",
   "language": "python",
   "name": "myenv"
  },
  "language_info": {
   "codemirror_mode": {
    "name": "ipython",
    "version": 3
   },
   "file_extension": ".py",
   "mimetype": "text/x-python",
   "name": "python",
   "nbconvert_exporter": "python",
   "pygments_lexer": "ipython3",
   "version": "3.9.1"
  }
 },
 "nbformat": 4,
 "nbformat_minor": 4
}
